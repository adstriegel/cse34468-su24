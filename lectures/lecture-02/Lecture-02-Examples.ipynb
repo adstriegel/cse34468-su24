{
 "cells": [
  {
   "cell_type": "code",
   "execution_count": 1,
   "id": "d0699a29",
   "metadata": {},
   "outputs": [],
   "source": [
    "theList = [ 'Hello', 'Allo', 'Bonjour', 42, 3.6, True ]"
   ]
  },
  {
   "cell_type": "code",
   "execution_count": 4,
   "id": "862bcd33",
   "metadata": {},
   "outputs": [
    {
     "name": "stdout",
     "output_type": "stream",
     "text": [
      "6\n"
     ]
    }
   ],
   "source": [
    "# How big is the list?\n",
    "print(len(theList))"
   ]
  },
  {
   "cell_type": "code",
   "execution_count": 5,
   "id": "cd1e74d2",
   "metadata": {},
   "outputs": [],
   "source": [
    "theDict = { 'Word' : 'Bird', 'SSID' : 'cse34468', 'Password' : 'go-irish' }"
   ]
  },
  {
   "cell_type": "code",
   "execution_count": 7,
   "id": "3c1a8aeb",
   "metadata": {},
   "outputs": [
    {
     "name": "stdout",
     "output_type": "stream",
     "text": [
      "Yup, SSID is there\n"
     ]
    }
   ],
   "source": [
    "if 'SSID' in theDict:\n",
    "    print('Yup, SSID is there')\n",
    "else:\n",
    "    print('Nope, not there')"
   ]
  },
  {
   "cell_type": "code",
   "execution_count": 8,
   "id": "8bdbb604",
   "metadata": {},
   "outputs": [
    {
     "name": "stdout",
     "output_type": "stream",
     "text": [
      "dict_keys(['Word', 'SSID', 'Password'])\n",
      "dict_items([('Word', 'Bird'), ('SSID', 'cse34468'), ('Password', 'go-irish')])\n"
     ]
    }
   ],
   "source": [
    "print(theDict.keys())\n",
    "print(theDict.items())"
   ]
  },
  {
   "cell_type": "code",
   "execution_count": 12,
   "id": "da982298",
   "metadata": {},
   "outputs": [
    {
     "name": "stdout",
     "output_type": "stream",
     "text": [
      "Key: Word is Value: Bird\n",
      "Key: SSID is Value: cse34468\n",
      "Key: Password is Value: go-irish\n"
     ]
    }
   ],
   "source": [
    "for (theKey, theItem) in theDict.items():\n",
    "    print('Key: ' + theKey + ' is Value: ' + theItem)"
   ]
  },
  {
   "cell_type": "code",
   "execution_count": 13,
   "id": "09a4340d",
   "metadata": {},
   "outputs": [],
   "source": [
    "theList.append({ 'mean' : 4.0, 'max' : 10.5, 'min' : 3.14 })"
   ]
  },
  {
   "cell_type": "code",
   "execution_count": 14,
   "id": "74f2da41",
   "metadata": {},
   "outputs": [
    {
     "name": "stdout",
     "output_type": "stream",
     "text": [
      "['Hello', 'Allo', 'Bonjour', 42, 3.6, True, {'mean': 4.0, 'max': 10.5, 'min': 3.14}]\n"
     ]
    }
   ],
   "source": [
    "print(theList)"
   ]
  },
  {
   "cell_type": "code",
   "execution_count": 15,
   "id": "eb57f602",
   "metadata": {},
   "outputs": [],
   "source": [
    "theDict[3] = 'Three'"
   ]
  },
  {
   "cell_type": "code",
   "execution_count": 16,
   "id": "b8b4656a",
   "metadata": {},
   "outputs": [
    {
     "name": "stdout",
     "output_type": "stream",
     "text": [
      "{'Word': 'Bird', 'SSID': 'cse34468', 'Password': 'go-irish', 3: 'Three'}\n"
     ]
    }
   ],
   "source": [
    "print(theDict)"
   ]
  },
  {
   "cell_type": "code",
   "execution_count": 17,
   "id": "efa78397",
   "metadata": {},
   "outputs": [
    {
     "name": "stdout",
     "output_type": "stream",
     "text": [
      "x is 3\n"
     ]
    }
   ],
   "source": [
    "x = 3\n",
    "if x == 3:\n",
    "    print ('x is 3')"
   ]
  },
  {
   "cell_type": "code",
   "execution_count": 18,
   "id": "7697ab97",
   "metadata": {},
   "outputs": [],
   "source": [
    "theDict['Foo'] = [ { 'Hello' : 'There'}, { 'Confusing' : 'Indeed' } ]"
   ]
  },
  {
   "cell_type": "code",
   "execution_count": 19,
   "id": "ad9b68fb",
   "metadata": {},
   "outputs": [
    {
     "name": "stdout",
     "output_type": "stream",
     "text": [
      "{'Word': 'Bird', 'SSID': 'cse34468', 'Password': 'go-irish', 3: 'Three', 'Foo': [{'Hello': 'There'}, {'Confusing': 'Indeed'}]}\n"
     ]
    }
   ],
   "source": [
    "print(theDict)"
   ]
  },
  {
   "cell_type": "code",
   "execution_count": 21,
   "id": "e88f72c2",
   "metadata": {},
   "outputs": [
    {
     "data": {
      "text/plain": [
       "'Indeed'"
      ]
     },
     "execution_count": 21,
     "metadata": {},
     "output_type": "execute_result"
    }
   ],
   "source": [
    "theDict['Foo'][1]['Confusing']"
   ]
  },
  {
   "cell_type": "code",
   "execution_count": 22,
   "id": "094c1699",
   "metadata": {},
   "outputs": [
    {
     "name": "stdout",
     "output_type": "stream",
     "text": [
      "[{'Hello': 'There'}, {'Confusing': 'Indeed'}]\n"
     ]
    }
   ],
   "source": [
    "print(theDict['Foo'])"
   ]
  },
  {
   "cell_type": "code",
   "execution_count": 23,
   "id": "c48ef3bf",
   "metadata": {},
   "outputs": [
    {
     "name": "stdout",
     "output_type": "stream",
     "text": [
      "{'Confusing': 'Indeed'}\n"
     ]
    }
   ],
   "source": [
    "print(theDict['Foo'][1])"
   ]
  },
  {
   "cell_type": "code",
   "execution_count": 24,
   "id": "af08646d",
   "metadata": {},
   "outputs": [
    {
     "name": "stdout",
     "output_type": "stream",
     "text": [
      "Indeed\n"
     ]
    }
   ],
   "source": [
    "print(theDict['Foo'][1]['Confusing'])"
   ]
  },
  {
   "cell_type": "code",
   "execution_count": null,
   "id": "cd163345",
   "metadata": {},
   "outputs": [],
   "source": []
  }
 ],
 "metadata": {
  "kernelspec": {
   "display_name": "Python 3 (ipykernel)",
   "language": "python",
   "name": "python3"
  },
  "language_info": {
   "codemirror_mode": {
    "name": "ipython",
    "version": 3
   },
   "file_extension": ".py",
   "mimetype": "text/x-python",
   "name": "python",
   "nbconvert_exporter": "python",
   "pygments_lexer": "ipython3",
   "version": "3.9.13"
  }
 },
 "nbformat": 4,
 "nbformat_minor": 5
}
