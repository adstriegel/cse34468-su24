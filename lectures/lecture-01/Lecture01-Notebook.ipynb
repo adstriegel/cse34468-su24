{
 "cells": [
  {
   "cell_type": "code",
   "execution_count": 1,
   "id": "9c0eef0b",
   "metadata": {},
   "outputs": [],
   "source": [
    "x = 3\n",
    "y = 5.6\n",
    "z = \"Hello class\"\n",
    "zz = 'Hello Berlin!'"
   ]
  },
  {
   "cell_type": "code",
   "execution_count": 4,
   "id": "3404d75d",
   "metadata": {},
   "outputs": [
    {
     "name": "stdout",
     "output_type": "stream",
     "text": [
      "3\n",
      "5.6\n",
      "Hello class\n",
      "Hello class\n"
     ]
    }
   ],
   "source": [
    "print(x)\n",
    "print(y)\n",
    "print(z)\n",
    "print(zz)"
   ]
  },
  {
   "cell_type": "code",
   "execution_count": 6,
   "id": "b1273125",
   "metadata": {},
   "outputs": [
    {
     "name": "stdout",
     "output_type": "stream",
     "text": [
      "<class 'int'>\n",
      "<class 'float'>\n",
      "<class 'str'>\n",
      "<class 'str'>\n"
     ]
    }
   ],
   "source": [
    "print(type(x))\n",
    "print(type(y))\n",
    "print(type(z))\n",
    "print(type(zz))"
   ]
  },
  {
   "cell_type": "code",
   "execution_count": 7,
   "id": "e0205ab2",
   "metadata": {},
   "outputs": [],
   "source": [
    "myList = [ 'Hunter', 'Hayden', 'Harrison', 'Hudson' ]"
   ]
  },
  {
   "cell_type": "code",
   "execution_count": 8,
   "id": "fd8a8d4e",
   "metadata": {},
   "outputs": [
    {
     "data": {
      "text/plain": [
       "'Hayden'"
      ]
     },
     "execution_count": 8,
     "metadata": {},
     "output_type": "execute_result"
    }
   ],
   "source": [
    "myList[1]"
   ]
  },
  {
   "cell_type": "code",
   "execution_count": 9,
   "id": "e7a6d43f",
   "metadata": {},
   "outputs": [
    {
     "name": "stdout",
     "output_type": "stream",
     "text": [
      "['Hunter', 'Hayden', 'Harrison', 'Hudson']\n"
     ]
    }
   ],
   "source": [
    "print(myList)"
   ]
  },
  {
   "cell_type": "code",
   "execution_count": 11,
   "id": "dc14f4ca",
   "metadata": {},
   "outputs": [],
   "source": [
    "notInCollege=myList[1:]"
   ]
  },
  {
   "cell_type": "code",
   "execution_count": 12,
   "id": "cad5d685",
   "metadata": {},
   "outputs": [
    {
     "name": "stdout",
     "output_type": "stream",
     "text": [
      "['Hayden', 'Harrison', 'Hudson']\n"
     ]
    }
   ],
   "source": [
    "print(notInCollege)"
   ]
  },
  {
   "cell_type": "code",
   "execution_count": 14,
   "id": "eb421713",
   "metadata": {},
   "outputs": [
    {
     "name": "stdout",
     "output_type": "stream",
     "text": [
      "Hudson\n",
      "['Hunter', 'Hayden', 'Harrison']\n"
     ]
    }
   ],
   "source": [
    "theYoungest=myList[-1]\n",
    "allButTheYoungest=myList[:3]\n",
    "print(theYoungest)\n",
    "print(allButTheYoungest)"
   ]
  },
  {
   "cell_type": "code",
   "execution_count": 16,
   "id": "9d50a274",
   "metadata": {},
   "outputs": [],
   "source": [
    "HudsonInfo = { 'Name' : 'Hudson', 'FavoriteShow' : 'Bluey', 'VolLevel' : 'NotQuiet' }"
   ]
  },
  {
   "cell_type": "code",
   "execution_count": 17,
   "id": "5a9fe93f",
   "metadata": {},
   "outputs": [
    {
     "name": "stdout",
     "output_type": "stream",
     "text": [
      "{'Name': 'Hudson', 'FavoriteShow': 'Bluey', 'VolLevel': 'NotQuiet'}\n"
     ]
    }
   ],
   "source": [
    "print(HudsonInfo)"
   ]
  },
  {
   "cell_type": "code",
   "execution_count": 18,
   "id": "422e0e64",
   "metadata": {},
   "outputs": [
    {
     "data": {
      "text/plain": [
       "'Bluey'"
      ]
     },
     "execution_count": 18,
     "metadata": {},
     "output_type": "execute_result"
    }
   ],
   "source": [
    "HudsonInfo['FavoriteShow']"
   ]
  },
  {
   "cell_type": "code",
   "execution_count": 19,
   "id": "396ba49f",
   "metadata": {},
   "outputs": [
    {
     "name": "stdout",
     "output_type": "stream",
     "text": [
      "dict_keys(['Name', 'FavoriteShow', 'VolLevel'])\n"
     ]
    }
   ],
   "source": [
    "print(HudsonInfo.keys())"
   ]
  },
  {
   "cell_type": "code",
   "execution_count": 21,
   "id": "ba9b062d",
   "metadata": {},
   "outputs": [
    {
     "name": "stdout",
     "output_type": "stream",
     "text": [
      "Name\n",
      "FavoriteShow\n",
      "VolLevel\n"
     ]
    }
   ],
   "source": [
    "for theKey in HudsonInfo:\n",
    "    print(theKey)"
   ]
  },
  {
   "cell_type": "code",
   "execution_count": 22,
   "id": "3508f29f",
   "metadata": {},
   "outputs": [
    {
     "name": "stdout",
     "output_type": "stream",
     "text": [
      "Hudson\n",
      "Bluey\n",
      "NotQuiet\n"
     ]
    }
   ],
   "source": [
    "for theKey in HudsonInfo:\n",
    "    print(HudsonInfo[theKey])"
   ]
  },
  {
   "cell_type": "code",
   "execution_count": 26,
   "id": "aa2df37a",
   "metadata": {},
   "outputs": [
    {
     "name": "stdout",
     "output_type": "stream",
     "text": [
      "Name -> Hudson\n",
      "FavoriteShow -> Bluey\n",
      "VolLevel -> NotQuiet\n"
     ]
    }
   ],
   "source": [
    "for theKey, theItem in HudsonInfo.items():\n",
    "    print(theKey + ' -> ' + theItem)"
   ]
  },
  {
   "cell_type": "code",
   "execution_count": null,
   "id": "b0dd11ed",
   "metadata": {},
   "outputs": [],
   "source": []
  }
 ],
 "metadata": {
  "kernelspec": {
   "display_name": "Python 3 (ipykernel)",
   "language": "python",
   "name": "python3"
  },
  "language_info": {
   "codemirror_mode": {
    "name": "ipython",
    "version": 3
   },
   "file_extension": ".py",
   "mimetype": "text/x-python",
   "name": "python",
   "nbconvert_exporter": "python",
   "pygments_lexer": "ipython3",
   "version": "3.9.13"
  }
 },
 "nbformat": 4,
 "nbformat_minor": 5
}
